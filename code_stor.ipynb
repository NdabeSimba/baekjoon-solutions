{
 "cells": [
  {
   "cell_type": "code",
   "execution_count": null,
   "metadata": {},
   "outputs": [],
   "source": [
    "# https://www.acmicpc.net/problem/10988\n",
    "# 31256\tkb 40 ms\n",
    "\n",
    "word = list(input())\n",
    "result = True\n",
    "for i in range(len(word) // 2):\n",
    "    if word[i] != word[-i - 1]:\n",
    "        result = False\n",
    "        break\n",
    "if result == True:\n",
    "    print(1)\n",
    "else:\n",
    "    print(0)"
   ]
  },
  {
   "cell_type": "code",
   "execution_count": null,
   "metadata": {},
   "outputs": [],
   "source": [
    "# https://www.acmicpc.net/problem/2738\n",
    "# 31256 kb, 60 ms\n",
    "# 31256 kb, 56 ms\n",
    "\n",
    "# 1\n",
    "N, M = map(int, input().split())\n",
    "lis1 = []\n",
    "lis2 = []\n",
    "result = []\n",
    "for i in range(N):\n",
    "    lis1.append(list(map(int, input().split())))\n",
    "for i in range(N):\n",
    "    lis2.append(list(map(int, input().split())))\n",
    "for i in range(N):\n",
    "    for j in range(M):\n",
    "        result.append(int(lis1[i][j]) + int(lis2[i][j]))\n",
    "for i in range(0, len(result), 3):\n",
    "    print(*result[i : i + 3])\n",
    "\n",
    "\n",
    "# 2\n",
    "N, M = map(int, input().split())\n",
    "lis1 = []\n",
    "lis2 = []\n",
    "for i in range(N):\n",
    "    lis1.append(list(map(int, input().split())))\n",
    "for i in range(N):\n",
    "    lis2.append(list(map(int, input().split())))\n",
    "for i in range(N):\n",
    "    for j in range(M):\n",
    "        print(int(lis1[i][j]) + int(lis2[i][j]), end=\" \")\n",
    "    print()"
   ]
  },
  {
   "cell_type": "code",
   "execution_count": null,
   "metadata": {},
   "outputs": [],
   "source": [
    "# https://www.acmicpc.net/problem/1271\n",
    "\n",
    "mon, peo = map(int, input().split())\n",
    "print(mon // peo, mon % peo, sep=\"\\S\")"
   ]
  },
  {
   "cell_type": "code",
   "execution_count": null,
   "metadata": {},
   "outputs": [],
   "source": [
    "# https://www.acmicpc.net/problem/2744\n",
    "\n",
    "line = list(input())\n",
    "for i in range(len(line)):\n",
    "    if line[i].isupper() == True:\n",
    "        line[i] = line[i].lower()\n",
    "    else:\n",
    "        line[i] = line[i].upper()\n",
    "print(*line, sep=\"\")"
   ]
  },
  {
   "cell_type": "code",
   "execution_count": null,
   "metadata": {},
   "outputs": [],
   "source": [
    "# https://www.acmicpc.net/problem/2530\n",
    "\n",
    "hr, min, sec = map(int, input().split())\n",
    "plus_sec = int(input())\n",
    "\n",
    "sec += plus_sec % 60\n",
    "plus_sec = plus_sec // 60\n",
    "\n",
    "if sec >= 60:\n",
    "    sec -= 60\n",
    "    min += 1\n",
    "\n",
    "min += plus_sec % 60\n",
    "plus_sec = plus_sec // 60\n",
    "\n",
    "if min >= 60:\n",
    "    min -= 60\n",
    "    hr += 1\n",
    "\n",
    "hr += plus_sec % 24\n",
    "\n",
    "if hr >= 24:\n",
    "    hr -= 24\n",
    "\n",
    "print(hr, min, sec)"
   ]
  },
  {
   "cell_type": "code",
   "execution_count": null,
   "metadata": {},
   "outputs": [],
   "source": [
    "if __name__ == \"__main__\":\n",
    "    S = int(input())\n",
    "    lis = map(int, input().split())\n",
    "    print(hash(tuple(lis)))"
   ]
  },
  {
   "cell_type": "code",
   "execution_count": null,
   "metadata": {},
   "outputs": [],
   "source": [
    "while True:\n",
    "    line = list(input().lower())\n",
    "    count = 0\n",
    "    if line[0] == \"#\":\n",
    "        break\n",
    "    else:\n",
    "        for i in range(len(line)):\n",
    "            if line[i] in [\"sum\", \"e\", \"i\", \"o\", \"u\"]:\n",
    "                count += 1\n",
    "        print(count)"
   ]
  },
  {
   "cell_type": "code",
   "execution_count": null,
   "metadata": {},
   "outputs": [],
   "source": [
    "while True:\n",
    "    name, age, weight = map(str, input().split())\n",
    "    if name == \"#\" and age == weight == \"0\":\n",
    "        break\n",
    "    if int(age) > 17 or int(weight) >= 80:\n",
    "        print(name, \"Senior\")\n",
    "    else:\n",
    "        print(name, \"Junior\")"
   ]
  },
  {
   "cell_type": "code",
   "execution_count": null,
   "metadata": {},
   "outputs": [],
   "source": [
    "# https://www.acmicpc.net/problem/4299\n",
    "\n",
    "sum, dif = map(int, input().split())\n",
    "\n",
    "if sum < dif:\n",
    "    print(-1)\n",
    "else:\n",
    "    line = (sum + dif) // 2\n",
    "    b = (sum - dif) // 2\n",
    "    if (line + b) == sum and (line - b) == dif:\n",
    "        print(max(line, b), min(line, b))\n",
    "    else:\n",
    "        print(-1)"
   ]
  },
  {
   "cell_type": "code",
   "execution_count": null,
   "metadata": {},
   "outputs": [],
   "source": [
    "vac = int(input())\n",
    "math = int(input())\n",
    "lang = int(input())\n",
    "max_m = int(input())\n",
    "max_l = int(input())\n",
    "\n",
    "if math / max_m > math // max_m:\n",
    "    day_m = math // max_m + 1\n",
    "else:\n",
    "    day_m = math // max_m\n",
    "\n",
    "if lang / max_l > lang // max_l:\n",
    "    day_l = lang // max_l + 1\n",
    "else:\n",
    "    day_l = lang // max_l\n",
    "\n",
    "print(vac - max(day_m, day_l))"
   ]
  },
  {
   "cell_type": "code",
   "execution_count": null,
   "metadata": {},
   "outputs": [],
   "source": [
    "def split_and_join(line):\n",
    "    line = line.strip().split(\" \")\n",
    "    return \"-\".join(line)\n",
    "\n",
    "if __name__ == \"__main__\":\n",
    "    line = input()\n",
    "    result = split_and_join(line)\n",
    "    print(result)"
   ]
  },
  {
   "cell_type": "code",
   "execution_count": null,
   "metadata": {},
   "outputs": [],
   "source": [
    "# https://www.acmicpc.net/problem/5575\n",
    "\n",
    "for i in range(3):\n",
    "    fh, fm, fs, lh, lm, ls = map(int, input().split())\n",
    "    time = ((lh * 3600) + (lm * 60) + ls) - ((fh * 3600) + (fm * 60) + fs)\n",
    "    print(time // 3600, (time % 3600) // 60, (time % 3600) % 60)"
   ]
  },
  {
   "cell_type": "code",
   "execution_count": null,
   "metadata": {},
   "outputs": [],
   "source": [
    "K, N, M = map(int, input().split())\n",
    "print(((K * N) - M) if (K * N) - M >= 0 else 0)"
   ]
  },
  {
   "cell_type": "code",
   "execution_count": null,
   "metadata": {},
   "outputs": [],
   "source": [
    "p1t, p1b = map(int, input().split())\n",
    "p2t, p2b = map(int, input().split())\n",
    "\n",
    "if (p1t * 3 + p1b) == (p2t * 3 + p2b):\n",
    "    print(\"NO SCORE\")\n",
    "else:\n",
    "    if (p1t * 3 + p1b) > (p2t * 3 + p2b):\n",
    "        print(1, (p1t * 3 + p1b) - (p2t * 3 + p2b))\n",
    "    else:\n",
    "        print(2, (p2t * 3 + p2b) - (p1t * 3 + p1b))"
   ]
  },
  {
   "cell_type": "code",
   "execution_count": null,
   "metadata": {},
   "outputs": [],
   "source": [
    "sum = 0\n",
    "for i in range(5):\n",
    "    num = int(input())\n",
    "    sum += num if num > 40 else 40\n",
    "print(sum // 5)"
   ]
  },
  {
   "cell_type": "code",
   "execution_count": null,
   "metadata": {},
   "outputs": [],
   "source": [
    "# https://www.acmicpc.net/problem/10808\n",
    "\n",
    "S = input()\n",
    "lis = [0] * 26\n",
    "\n",
    "for i in S:\n",
    "    lis[ord(i) - 97] += 1\n",
    "\n",
    "print(*lis)"
   ]
  },
  {
   "cell_type": "code",
   "execution_count": null,
   "metadata": {},
   "outputs": [],
   "source": [
    "restrict = int(input())\n",
    "car_list = list(map(int, input().split()))\n",
    "\n",
    "count = 0\n",
    "\n",
    "for i in car_list:\n",
    "    if restrict == i:\n",
    "        count += 1\n",
    "print(count)"
   ]
  },
  {
   "cell_type": "code",
   "execution_count": null,
   "metadata": {},
   "outputs": [],
   "source": [
    "# https://www.acmicpc.net/problem/3765\n",
    "\n",
    "try:\n",
    "    while True :\n",
    "        print(input())\n",
    "except:\n",
    "    exit()"
   ]
  },
  {
   "cell_type": "code",
   "execution_count": null,
   "metadata": {},
   "outputs": [],
   "source": [
    "while True:\n",
    "    line = input()\n",
    "    if line == 'END':\n",
    "        break\n",
    "    else:\n",
    "        print(line[::-1])"
   ]
  },
  {
   "cell_type": "code",
   "execution_count": null,
   "metadata": {},
   "outputs": [],
   "source": [
    "# https://www.acmicpc.net/problem/2869\n",
    "\n",
    "A, B, V = map(int, input().split())\n",
    "\n",
    "days = (V - B) / (A - B)\n",
    "if days == int(days):\n",
    "    print(int(days))\n",
    "else:\n",
    "    print(int(days) + 1)"
   ]
  },
  {
   "cell_type": "code",
   "execution_count": null,
   "metadata": {},
   "outputs": [],
   "source": [
    "# https://www.acmicpc.net/problem/2609\n",
    "\n",
    "a, b = map(int, input().split())\n",
    "A = max(a, b)\n",
    "B = min(a, b)\n",
    "\n",
    "def GCM(A, B):\n",
    "    if A % B == 0:\n",
    "        return B\n",
    "    else:\n",
    "        R = A % B\n",
    "        return GCM(max(R, B), min(R, B))\n",
    "\n",
    "\n",
    "print(GCM(A, B))\n",
    "print(int(a * b / GCM(A, B)))"
   ]
  },
  {
   "cell_type": "code",
   "execution_count": null,
   "metadata": {},
   "outputs": [],
   "source": [
    "num = int(input())\n",
    "for i in range(1, num + 1):\n",
    "    print(\" \" * (i - 1) + \"*\" * (num - i + 1))"
   ]
  },
  {
   "cell_type": "code",
   "execution_count": null,
   "metadata": {},
   "outputs": [],
   "source": [
    "N = int(input())\n",
    "\n",
    "for i in reversed(range(1, N + 1)):\n",
    "    stars = \" \" * (N - i) + \"*\" * ((2 * i) - 1)\n",
    "    print(stars)\n",
    "\n",
    "for i in range(1, N + 1):\n",
    "    stars = \" \" * (N - i) + \"*\" * ((2 * i) - 1)\n",
    "    print(stars)\n"
   ]
  },
  {
   "cell_type": "code",
   "execution_count": null,
   "metadata": {},
   "outputs": [],
   "source": [
    "while True:\n",
    "    try:\n",
    "        print(input())\n",
    "    except EOFError:\n",
    "        break"
   ]
  },
  {
   "cell_type": "code",
   "execution_count": null,
   "metadata": {},
   "outputs": [],
   "source": [
    "for _ in range(int(input())):\n",
    "    a, b = map(int, input().split())\n",
    "    A = max(a, b)\n",
    "    B = min(a, b)\n",
    "\n",
    "    def GCM(A, B):\n",
    "        if A % B == 0:\n",
    "            return B\n",
    "        else:\n",
    "            R = A % B\n",
    "            return GCM(max(R, B), min(R, B))\n",
    "\n",
    "    print(int(a * b / GCM(A, B)))"
   ]
  },
  {
   "cell_type": "code",
   "execution_count": null,
   "metadata": {},
   "outputs": [],
   "source": [
    "# https://www.acmicpc.net/problem/11944\n",
    "\n",
    "N, M = map(str, input().split())\n",
    "print((str(N)*N)[:M])"
   ]
  },
  {
   "cell_type": "code",
   "execution_count": null,
   "metadata": {},
   "outputs": [],
   "source": [
    "# https://www.acmicpc.net/problem/1075\n",
    "\n",
    "N = input()\n",
    "F = int(input())\n",
    "temp = int(N[:-2]+'00')\n",
    "\n",
    "while True:\n",
    "    if (temp % F) == 0:\n",
    "        print(str(temp)[-2:])\n",
    "        break\n",
    "    temp += 1"
   ]
  },
  {
   "cell_type": "code",
   "execution_count": null,
   "metadata": {},
   "outputs": [],
   "source": [
    "# https://www.acmicpc.net/problem/9772\n",
    "\n",
    "while True:\n",
    "    x, y = map(float, input().split())\n",
    "    if x == 0 or y == 0:\n",
    "        if x == 0 and y == 0:\n",
    "            print(\"AXIS\")\n",
    "            break\n",
    "        else:\n",
    "            print(\"AXIS\")\n",
    "    elif x > 0 and y > 0:\n",
    "        print(\"Q1\")\n",
    "    elif x > 0 and y < 0:\n",
    "        print(\"Q4\")\n",
    "    elif x < 0 and y > 0:\n",
    "        print(\"Q2\")\n",
    "    elif x < 0 and y < 0:\n",
    "        print(\"Q3\")"
   ]
  },
  {
   "cell_type": "code",
   "execution_count": null,
   "metadata": {},
   "outputs": [],
   "source": [
    "# https://www.acmicpc.net/problem/15964\n",
    "\n",
    "A, B = map(int, input().split())\n",
    "print((A + B) * (A - B))"
   ]
  },
  {
   "cell_type": "code",
   "execution_count": null,
   "metadata": {},
   "outputs": [],
   "source": [
    "# https://www.acmicpc.net/problem/1076\n",
    "\n",
    "import sys\n",
    "input = sys.stdin.readline\n",
    "\n",
    "color = {\n",
    "    \"black\" : 0,\n",
    "    \"brown\" : 1,\n",
    "    \"red\" : 2,\n",
    "    \"orange\" : 3,\n",
    "    \"yellow\" : 4,\n",
    "    \"green\" : 5,\n",
    "    \"blue\" : 6,\n",
    "    \"violet\" : 7,\n",
    "    \"grey\" : 8,\n",
    "    \"white\" : 9,\n",
    "}\n",
    "\n",
    "a = sys.stdin.readline().strip()\n",
    "b = sys.stdin.readline().strip()\n",
    "c = sys.stdin.readline().strip()\n",
    "\n",
    "print(int(str(color[a]) + str(color[b])) * 10 ** color[c])\n"
   ]
  },
  {
   "cell_type": "code",
   "execution_count": null,
   "metadata": {},
   "outputs": [],
   "source": [
    "# https://www.acmicpc.net/problem/2745\n",
    "\n",
    "input = __import__('sys').stdin.readline\n",
    "a, b = input().strip().split()\n",
    "print(int(a, int(b)))"
   ]
  },
  {
   "cell_type": "code",
   "execution_count": null,
   "metadata": {},
   "outputs": [],
   "source": [
    "# https://www.acmicpc.net/problem/2903\n",
    "\n",
    "input = __import__(\"sys\").stdin.readline\n",
    "num = int(input())\n",
    "num_list = [2, 3, 5]\n",
    "\n",
    "for i in range(num - 2):\n",
    "    num_list.append(2 * num_list[-1] - 1)\n",
    "\n",
    "print(num_list[num] ** 2)\n",
    "\n",
    "# ---\n",
    "\n",
    "print((2 ** int(input()) + 1) ** 2)"
   ]
  },
  {
   "cell_type": "code",
   "execution_count": null,
   "metadata": {},
   "outputs": [],
   "source": [
    "# https://www.acmicpc.net/problem/9063\n",
    "\n",
    "import sys\n",
    "input = sys.stdin.readline\n",
    "\n",
    "x_axis = set()\n",
    "y_axis = set()\n",
    "\n",
    "for _ in range(int(input())):\n",
    "    x, y = map(int, input().split())\n",
    "    x_axis.add(x)\n",
    "    y_axis.add(y)\n",
    "\n",
    "width = max(x_axis) - min(x_axis)\n",
    "height = max(y_axis) - min(y_axis)\n",
    "\n",
    "print(width * height)"
   ]
  },
  {
   "cell_type": "code",
   "execution_count": null,
   "metadata": {},
   "outputs": [],
   "source": [
    "# https://www.acmicpc.net/problem/5073\n",
    "\n",
    "while True:\n",
    "    num_list = sorted(list(map(int, input().split())))\n",
    "\n",
    "    if num_list[0] == num_list[1] == num_list[2] == 0:\n",
    "        break\n",
    "\n",
    "    if num_list[2] >= num_list[1] + num_list[0]:\n",
    "        print(\"Invalid\")\n",
    "        \n",
    "    elif num_list[0] == num_list[1] == num_list[2]:\n",
    "        print(\"Equilateral\")\n",
    "\n",
    "    elif (\n",
    "        num_list[0] == num_list[1]\n",
    "        or num_list[1] == num_list[2]\n",
    "        or num_list[2] == num_list[0]\n",
    "    ):\n",
    "        print(\"Isosceles\")\n",
    "\n",
    "    else:\n",
    "        print(\"Scalene\")"
   ]
  },
  {
   "cell_type": "code",
   "execution_count": null,
   "metadata": {},
   "outputs": [],
   "source": [
    "# https://www.acmicpc.net/problem/14215\n",
    "\n",
    "num_list = sorted(list(map(int, input().split())))\n",
    "\n",
    "if num_list[0] + num_list[1] <= num_list[2]:\n",
    "    print(2 * (num_list[0] + num_list[1]) - 1)\n",
    "else:\n",
    "    print(sum(num_list))"
   ]
  }
 ],
 "metadata": {
  "kernelspec": {
   "display_name": "Python 3",
   "language": "python",
   "name": "python3"
  },
  "language_info": {
   "codemirror_mode": {
    "name": "ipython",
    "version": 3
   },
   "file_extension": ".py",
   "mimetype": "text/x-python",
   "name": "python",
   "nbconvert_exporter": "python",
   "pygments_lexer": "ipython3",
   "version": "3.10.9"
  },
  "orig_nbformat": 4
 },
 "nbformat": 4,
 "nbformat_minor": 2
}
